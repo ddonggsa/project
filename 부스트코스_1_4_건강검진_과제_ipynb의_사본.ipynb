{
  "cells": [
    {
      "cell_type": "markdown",
      "metadata": {
        "id": "view-in-github",
        "colab_type": "text"
      },
      "source": [
        "<a href=\"https://colab.research.google.com/github/ddonggsa/project/blob/master/%E1%84%87%E1%85%AE%E1%84%89%E1%85%B3%E1%84%90%E1%85%B3%E1%84%8F%E1%85%A9%E1%84%89%E1%85%B3_1_4_%E1%84%80%E1%85%A5%E1%86%AB%E1%84%80%E1%85%A1%E1%86%BC%E1%84%80%E1%85%A5%E1%86%B7%E1%84%8C%E1%85%B5%E1%86%AB_%E1%84%80%E1%85%AA%E1%84%8C%E1%85%A6_ipynb%EC%9D%98_%EC%82%AC%EB%B3%B8.ipynb\" target=\"_parent\"><img src=\"https://colab.research.google.com/assets/colab-badge.svg\" alt=\"Open In Colab\"/></a>"
      ]
    },
    {
      "cell_type": "markdown",
      "id": "4f4c3947",
      "metadata": {
        "id": "4f4c3947"
      },
      "source": [
        "* 미션 수행을 위해 아래 셀을 실행해 주세요!\n",
        "* 한글폰트 설정 :  https://github.com/ychoi-kr/koreanize-matplotlib"
      ]
    },
    {
      "cell_type": "code",
      "execution_count": null,
      "id": "0516b977",
      "metadata": {
        "id": "0516b977"
      },
      "outputs": [],
      "source": [
        "import pandas as pd\n",
        "import numpy as np\n",
        "import seaborn as sns"
      ]
    },
    {
      "cell_type": "code",
      "execution_count": null,
      "id": "c8ed178f",
      "metadata": {
        "id": "c8ed178f",
        "colab": {
          "base_uri": "https://localhost:8080/"
        },
        "outputId": "6fec8b7e-fe32-4f23-aa5a-8207fa6b4e25"
      },
      "outputs": [
        {
          "output_type": "stream",
          "name": "stdout",
          "text": [
            "Traceback (most recent call last):\n",
            "  File \"<frozen importlib._bootstrap>\", line 671, in _load_unlocked\n",
            "  File \"<frozen importlib._bootstrap_external>\", line 848, in exec_module\n",
            "  File \"<frozen importlib._bootstrap>\", line 219, in _call_with_frames_removed\n",
            "  File \"/usr/local/lib/python3.8/dist-packages/pip/_internal/cli/cmdoptions.py\", line 23, in <module>\n",
            "    from pip._internal.cli.parser import ConfigOptionParser\n",
            "  File \"/usr/local/lib/python3.8/dist-packages/pip/_internal/cli/parser.py\", line 12, in <module>\n",
            "    from pip._internal.configuration import Configuration, ConfigurationError\n",
            "  File \"/usr/local/lib/python3.8/dist-packages/pip/_internal/configuration.py\", line 26, in <module>\n",
            "    from pip._internal.utils.logging import getLogger\n",
            "  File \"/usr/local/lib/python3.8/dist-packages/pip/_internal/utils/logging.py\", line 27, in <module>\n",
            "    from pip._internal.utils.misc import ensure_dir\n",
            "  File \"/usr/local/lib/python3.8/dist-packages/pip/_internal/utils/misc.py\", line 35, in <module>\n",
            "    from pip._vendor.tenacity import retry, stop_after_delay, wait_fixed\n",
            "  File \"/usr/local/lib/python3.8/dist-packages/pip/_vendor/tenacity/__init__.py\", line 57, in <module>\n",
            "    from .wait import wait_chain  # noqa\n",
            "  File \"/usr/local/lib/python3.8/dist-packages/pip/_vendor/tenacity/wait.py\", line 21, in <module>\n",
            "    from pip._vendor.tenacity import _utils\n",
            "KeyboardInterrupt\n",
            "\n",
            "During handling of the above exception, another exception occurred:\n",
            "\n",
            "Traceback (most recent call last):\n",
            "  File \"/usr/local/bin/pip3\", line 5, in <module>\n",
            "    from pip._internal.cli.main import main\n",
            "  File \"/usr/local/lib/python3.8/dist-packages/pip/_internal/cli/main.py\", line 9, in <module>\n",
            "    from pip._internal.cli.autocompletion import autocomplete\n",
            "  File \"/usr/local/lib/python3.8/dist-packages/pip/_internal/cli/autocompletion.py\", line 10, in <module>\n",
            "    from pip._internal.cli.main_parser import create_main_parser\n",
            "  File \"/usr/local/lib/python3.8/dist-packages/pip/_internal/cli/main_parser.py\", line 8, in <module>\n",
            "    from pip._internal.cli import cmdoptions\n",
            "  File \"<frozen importlib._bootstrap>\", line 991, in _find_and_load\n",
            "  File \"<frozen importlib._bootstrap>\", line 975, in _find_and_load_unlocked\n",
            "  File \"<frozen importlib._bootstrap>\", line 671, in _load_unlocked\n",
            "KeyboardInterrupt\n",
            "^C\n"
          ]
        }
      ],
      "source": [
        "# 한글폰트 사용을 위해 설치\n",
        "# 아래 모듈을 설치하고 불러오면 별도의 한글폰트 설정이 필요 없습니다.\n",
        "# colab 에서도 아래 설치 문구의 주석을 제거하고 설치하고 import 해주기만 하면 한글폰트가 잘 나옵니다.\n",
        "!pip install koreanize-matplotlib\n",
        "\n",
        "import koreanize_matplotlib"
      ]
    },
    {
      "cell_type": "code",
      "execution_count": null,
      "id": "dd38105e",
      "metadata": {
        "id": "dd38105e",
        "colab": {
          "base_uri": "https://localhost:8080/"
        },
        "outputId": "aaac0730-07ce-4e4e-8f39-14e71469019a"
      },
      "outputs": [
        {
          "output_type": "execute_result",
          "data": {
            "text/plain": [
              "(1000000, 34)"
            ]
          },
          "metadata": {},
          "execution_count": 43
        }
      ],
      "source": [
        "# df = pd.read_csv(\"boostcourse-ds-510/data/NHIS_OPEN_GJ_2017.CSV.zip\", encoding=\"cp949\")\n",
        "df = pd.read_csv(\"https://raw.githubusercontent.com/corazzon/boostcourse-ds-510/master/data/NHIS_OPEN_GJ_2017.CSV.zip\",\n",
        "                 encoding=\"cp949\")\n",
        "df.shape"
      ]
    },
    {
      "cell_type": "code",
      "execution_count": null,
      "id": "f31cfff0",
      "metadata": {
        "id": "f31cfff0",
        "colab": {
          "base_uri": "https://localhost:8080/"
        },
        "outputId": "538fc96a-0097-4cb7-eb04-53c91bd1c016"
      },
      "outputs": [
        {
          "output_type": "execute_result",
          "data": {
            "text/plain": [
              "Index(['기준년도', '가입자일련번호', '성별코드', '연령대코드(5세단위)', '시도코드', '신장(5Cm단위)',\n",
              "       '체중(5Kg 단위)', '허리둘레', '시력(좌)', '시력(우)', '청력(좌)', '청력(우)', '수축기혈압',\n",
              "       '이완기혈압', '식전혈당(공복혈당)', '총콜레스테롤', '트리글리세라이드', 'HDL콜레스테롤', 'LDL콜레스테롤',\n",
              "       '혈색소', '요단백', '혈청크레아티닌', '(혈청지오티)AST', '(혈청지오티)ALT', '감마지티피', '흡연상태',\n",
              "       '음주여부', '구강검진 수검여부', '치아우식증유무', '결손치유무', '치아마모증유무', '제3대구치(사랑니)이상',\n",
              "       '치석', '데이터공개일자'],\n",
              "      dtype='object')"
            ]
          },
          "metadata": {},
          "execution_count": 44
        }
      ],
      "source": [
        "df.columns"
      ]
    },
    {
      "cell_type": "code",
      "source": [
        "df.head(10)"
      ],
      "metadata": {
        "colab": {
          "base_uri": "https://localhost:8080/",
          "height": 454
        },
        "id": "sghh5qyRQdCf",
        "outputId": "b507fdb3-5300-47d5-e152-e3f1f2efa23b"
      },
      "id": "sghh5qyRQdCf",
      "execution_count": null,
      "outputs": [
        {
          "output_type": "execute_result",
          "data": {
            "text/plain": [
              "   기준년도  가입자일련번호  성별코드  연령대코드(5세단위)  시도코드  신장(5Cm단위)  체중(5Kg 단위)   허리둘레  \\\n",
              "0  2017        1     1           13    46      170.0        65.0   91.0   \n",
              "1  2017        2     2            8    41      150.0        45.0   73.4   \n",
              "2  2017        3     1            8    45      175.0        75.0   94.0   \n",
              "3  2017        4     2           12    11      155.0        55.0   67.5   \n",
              "4  2017        5     1            8    41      175.0        75.0   93.0   \n",
              "5  2017        6     1            8    11      170.0        70.0   84.8   \n",
              "6  2017        7     1            8    48      175.0       110.0  111.5   \n",
              "7  2017        8     2            6    26      170.0        70.0   78.0   \n",
              "8  2017        9     1            8    41      170.0        80.0   93.0   \n",
              "9  2017       10     1            8    11      170.0        70.0   86.0   \n",
              "\n",
              "   시력(좌)  시력(우)  ...  감마지티피  흡연상태  음주여부  구강검진 수검여부  치아우식증유무  결손치유무  치아마모증유무  \\\n",
              "0    1.0    1.2  ...   25.0   3.0   0.0          1      NaN    NaN      NaN   \n",
              "1    1.2    1.0  ...   10.0   1.0   0.0          1      NaN    NaN      NaN   \n",
              "2    1.0    0.8  ...  136.0   1.0   0.0          1      NaN    NaN      NaN   \n",
              "3    0.9    1.0  ...   30.0   1.0   1.0          0      NaN    NaN      NaN   \n",
              "4    1.5    1.5  ...   68.0   3.0   0.0          0      NaN    NaN      NaN   \n",
              "5    1.2    1.0  ...   33.0   2.0   1.0          1      NaN    NaN      NaN   \n",
              "6    1.0    1.0  ...   45.0   3.0   1.0          0      NaN    NaN      NaN   \n",
              "7    0.8    0.7  ...   13.0   1.0   0.0          0      NaN    NaN      NaN   \n",
              "8    0.7    0.9  ...   51.0   2.0   0.0          1      NaN    NaN      NaN   \n",
              "9    1.0    1.0  ...   88.0   1.0   1.0          1      NaN    NaN      NaN   \n",
              "\n",
              "   제3대구치(사랑니)이상   치석   데이터공개일자  \n",
              "0           NaN  1.0  20181126  \n",
              "1           NaN  1.0  20181126  \n",
              "2           NaN  0.0  20181126  \n",
              "3           NaN  NaN  20181126  \n",
              "4           NaN  NaN  20181126  \n",
              "5           NaN  1.0  20181126  \n",
              "6           NaN  NaN  20181126  \n",
              "7           NaN  NaN  20181126  \n",
              "8           NaN  1.0  20181126  \n",
              "9           NaN  0.0  20181126  \n",
              "\n",
              "[10 rows x 34 columns]"
            ],
            "text/html": [
              "\n",
              "  <div id=\"df-230e9fc9-3467-4371-aa49-952dfe04355e\">\n",
              "    <div class=\"colab-df-container\">\n",
              "      <div>\n",
              "<style scoped>\n",
              "    .dataframe tbody tr th:only-of-type {\n",
              "        vertical-align: middle;\n",
              "    }\n",
              "\n",
              "    .dataframe tbody tr th {\n",
              "        vertical-align: top;\n",
              "    }\n",
              "\n",
              "    .dataframe thead th {\n",
              "        text-align: right;\n",
              "    }\n",
              "</style>\n",
              "<table border=\"1\" class=\"dataframe\">\n",
              "  <thead>\n",
              "    <tr style=\"text-align: right;\">\n",
              "      <th></th>\n",
              "      <th>기준년도</th>\n",
              "      <th>가입자일련번호</th>\n",
              "      <th>성별코드</th>\n",
              "      <th>연령대코드(5세단위)</th>\n",
              "      <th>시도코드</th>\n",
              "      <th>신장(5Cm단위)</th>\n",
              "      <th>체중(5Kg 단위)</th>\n",
              "      <th>허리둘레</th>\n",
              "      <th>시력(좌)</th>\n",
              "      <th>시력(우)</th>\n",
              "      <th>...</th>\n",
              "      <th>감마지티피</th>\n",
              "      <th>흡연상태</th>\n",
              "      <th>음주여부</th>\n",
              "      <th>구강검진 수검여부</th>\n",
              "      <th>치아우식증유무</th>\n",
              "      <th>결손치유무</th>\n",
              "      <th>치아마모증유무</th>\n",
              "      <th>제3대구치(사랑니)이상</th>\n",
              "      <th>치석</th>\n",
              "      <th>데이터공개일자</th>\n",
              "    </tr>\n",
              "  </thead>\n",
              "  <tbody>\n",
              "    <tr>\n",
              "      <th>0</th>\n",
              "      <td>2017</td>\n",
              "      <td>1</td>\n",
              "      <td>1</td>\n",
              "      <td>13</td>\n",
              "      <td>46</td>\n",
              "      <td>170.0</td>\n",
              "      <td>65.0</td>\n",
              "      <td>91.0</td>\n",
              "      <td>1.0</td>\n",
              "      <td>1.2</td>\n",
              "      <td>...</td>\n",
              "      <td>25.0</td>\n",
              "      <td>3.0</td>\n",
              "      <td>0.0</td>\n",
              "      <td>1</td>\n",
              "      <td>NaN</td>\n",
              "      <td>NaN</td>\n",
              "      <td>NaN</td>\n",
              "      <td>NaN</td>\n",
              "      <td>1.0</td>\n",
              "      <td>20181126</td>\n",
              "    </tr>\n",
              "    <tr>\n",
              "      <th>1</th>\n",
              "      <td>2017</td>\n",
              "      <td>2</td>\n",
              "      <td>2</td>\n",
              "      <td>8</td>\n",
              "      <td>41</td>\n",
              "      <td>150.0</td>\n",
              "      <td>45.0</td>\n",
              "      <td>73.4</td>\n",
              "      <td>1.2</td>\n",
              "      <td>1.0</td>\n",
              "      <td>...</td>\n",
              "      <td>10.0</td>\n",
              "      <td>1.0</td>\n",
              "      <td>0.0</td>\n",
              "      <td>1</td>\n",
              "      <td>NaN</td>\n",
              "      <td>NaN</td>\n",
              "      <td>NaN</td>\n",
              "      <td>NaN</td>\n",
              "      <td>1.0</td>\n",
              "      <td>20181126</td>\n",
              "    </tr>\n",
              "    <tr>\n",
              "      <th>2</th>\n",
              "      <td>2017</td>\n",
              "      <td>3</td>\n",
              "      <td>1</td>\n",
              "      <td>8</td>\n",
              "      <td>45</td>\n",
              "      <td>175.0</td>\n",
              "      <td>75.0</td>\n",
              "      <td>94.0</td>\n",
              "      <td>1.0</td>\n",
              "      <td>0.8</td>\n",
              "      <td>...</td>\n",
              "      <td>136.0</td>\n",
              "      <td>1.0</td>\n",
              "      <td>0.0</td>\n",
              "      <td>1</td>\n",
              "      <td>NaN</td>\n",
              "      <td>NaN</td>\n",
              "      <td>NaN</td>\n",
              "      <td>NaN</td>\n",
              "      <td>0.0</td>\n",
              "      <td>20181126</td>\n",
              "    </tr>\n",
              "    <tr>\n",
              "      <th>3</th>\n",
              "      <td>2017</td>\n",
              "      <td>4</td>\n",
              "      <td>2</td>\n",
              "      <td>12</td>\n",
              "      <td>11</td>\n",
              "      <td>155.0</td>\n",
              "      <td>55.0</td>\n",
              "      <td>67.5</td>\n",
              "      <td>0.9</td>\n",
              "      <td>1.0</td>\n",
              "      <td>...</td>\n",
              "      <td>30.0</td>\n",
              "      <td>1.0</td>\n",
              "      <td>1.0</td>\n",
              "      <td>0</td>\n",
              "      <td>NaN</td>\n",
              "      <td>NaN</td>\n",
              "      <td>NaN</td>\n",
              "      <td>NaN</td>\n",
              "      <td>NaN</td>\n",
              "      <td>20181126</td>\n",
              "    </tr>\n",
              "    <tr>\n",
              "      <th>4</th>\n",
              "      <td>2017</td>\n",
              "      <td>5</td>\n",
              "      <td>1</td>\n",
              "      <td>8</td>\n",
              "      <td>41</td>\n",
              "      <td>175.0</td>\n",
              "      <td>75.0</td>\n",
              "      <td>93.0</td>\n",
              "      <td>1.5</td>\n",
              "      <td>1.5</td>\n",
              "      <td>...</td>\n",
              "      <td>68.0</td>\n",
              "      <td>3.0</td>\n",
              "      <td>0.0</td>\n",
              "      <td>0</td>\n",
              "      <td>NaN</td>\n",
              "      <td>NaN</td>\n",
              "      <td>NaN</td>\n",
              "      <td>NaN</td>\n",
              "      <td>NaN</td>\n",
              "      <td>20181126</td>\n",
              "    </tr>\n",
              "    <tr>\n",
              "      <th>5</th>\n",
              "      <td>2017</td>\n",
              "      <td>6</td>\n",
              "      <td>1</td>\n",
              "      <td>8</td>\n",
              "      <td>11</td>\n",
              "      <td>170.0</td>\n",
              "      <td>70.0</td>\n",
              "      <td>84.8</td>\n",
              "      <td>1.2</td>\n",
              "      <td>1.0</td>\n",
              "      <td>...</td>\n",
              "      <td>33.0</td>\n",
              "      <td>2.0</td>\n",
              "      <td>1.0</td>\n",
              "      <td>1</td>\n",
              "      <td>NaN</td>\n",
              "      <td>NaN</td>\n",
              "      <td>NaN</td>\n",
              "      <td>NaN</td>\n",
              "      <td>1.0</td>\n",
              "      <td>20181126</td>\n",
              "    </tr>\n",
              "    <tr>\n",
              "      <th>6</th>\n",
              "      <td>2017</td>\n",
              "      <td>7</td>\n",
              "      <td>1</td>\n",
              "      <td>8</td>\n",
              "      <td>48</td>\n",
              "      <td>175.0</td>\n",
              "      <td>110.0</td>\n",
              "      <td>111.5</td>\n",
              "      <td>1.0</td>\n",
              "      <td>1.0</td>\n",
              "      <td>...</td>\n",
              "      <td>45.0</td>\n",
              "      <td>3.0</td>\n",
              "      <td>1.0</td>\n",
              "      <td>0</td>\n",
              "      <td>NaN</td>\n",
              "      <td>NaN</td>\n",
              "      <td>NaN</td>\n",
              "      <td>NaN</td>\n",
              "      <td>NaN</td>\n",
              "      <td>20181126</td>\n",
              "    </tr>\n",
              "    <tr>\n",
              "      <th>7</th>\n",
              "      <td>2017</td>\n",
              "      <td>8</td>\n",
              "      <td>2</td>\n",
              "      <td>6</td>\n",
              "      <td>26</td>\n",
              "      <td>170.0</td>\n",
              "      <td>70.0</td>\n",
              "      <td>78.0</td>\n",
              "      <td>0.8</td>\n",
              "      <td>0.7</td>\n",
              "      <td>...</td>\n",
              "      <td>13.0</td>\n",
              "      <td>1.0</td>\n",
              "      <td>0.0</td>\n",
              "      <td>0</td>\n",
              "      <td>NaN</td>\n",
              "      <td>NaN</td>\n",
              "      <td>NaN</td>\n",
              "      <td>NaN</td>\n",
              "      <td>NaN</td>\n",
              "      <td>20181126</td>\n",
              "    </tr>\n",
              "    <tr>\n",
              "      <th>8</th>\n",
              "      <td>2017</td>\n",
              "      <td>9</td>\n",
              "      <td>1</td>\n",
              "      <td>8</td>\n",
              "      <td>41</td>\n",
              "      <td>170.0</td>\n",
              "      <td>80.0</td>\n",
              "      <td>93.0</td>\n",
              "      <td>0.7</td>\n",
              "      <td>0.9</td>\n",
              "      <td>...</td>\n",
              "      <td>51.0</td>\n",
              "      <td>2.0</td>\n",
              "      <td>0.0</td>\n",
              "      <td>1</td>\n",
              "      <td>NaN</td>\n",
              "      <td>NaN</td>\n",
              "      <td>NaN</td>\n",
              "      <td>NaN</td>\n",
              "      <td>1.0</td>\n",
              "      <td>20181126</td>\n",
              "    </tr>\n",
              "    <tr>\n",
              "      <th>9</th>\n",
              "      <td>2017</td>\n",
              "      <td>10</td>\n",
              "      <td>1</td>\n",
              "      <td>8</td>\n",
              "      <td>11</td>\n",
              "      <td>170.0</td>\n",
              "      <td>70.0</td>\n",
              "      <td>86.0</td>\n",
              "      <td>1.0</td>\n",
              "      <td>1.0</td>\n",
              "      <td>...</td>\n",
              "      <td>88.0</td>\n",
              "      <td>1.0</td>\n",
              "      <td>1.0</td>\n",
              "      <td>1</td>\n",
              "      <td>NaN</td>\n",
              "      <td>NaN</td>\n",
              "      <td>NaN</td>\n",
              "      <td>NaN</td>\n",
              "      <td>0.0</td>\n",
              "      <td>20181126</td>\n",
              "    </tr>\n",
              "  </tbody>\n",
              "</table>\n",
              "<p>10 rows × 34 columns</p>\n",
              "</div>\n",
              "      <button class=\"colab-df-convert\" onclick=\"convertToInteractive('df-230e9fc9-3467-4371-aa49-952dfe04355e')\"\n",
              "              title=\"Convert this dataframe to an interactive table.\"\n",
              "              style=\"display:none;\">\n",
              "        \n",
              "  <svg xmlns=\"http://www.w3.org/2000/svg\" height=\"24px\"viewBox=\"0 0 24 24\"\n",
              "       width=\"24px\">\n",
              "    <path d=\"M0 0h24v24H0V0z\" fill=\"none\"/>\n",
              "    <path d=\"M18.56 5.44l.94 2.06.94-2.06 2.06-.94-2.06-.94-.94-2.06-.94 2.06-2.06.94zm-11 1L8.5 8.5l.94-2.06 2.06-.94-2.06-.94L8.5 2.5l-.94 2.06-2.06.94zm10 10l.94 2.06.94-2.06 2.06-.94-2.06-.94-.94-2.06-.94 2.06-2.06.94z\"/><path d=\"M17.41 7.96l-1.37-1.37c-.4-.4-.92-.59-1.43-.59-.52 0-1.04.2-1.43.59L10.3 9.45l-7.72 7.72c-.78.78-.78 2.05 0 2.83L4 21.41c.39.39.9.59 1.41.59.51 0 1.02-.2 1.41-.59l7.78-7.78 2.81-2.81c.8-.78.8-2.07 0-2.86zM5.41 20L4 18.59l7.72-7.72 1.47 1.35L5.41 20z\"/>\n",
              "  </svg>\n",
              "      </button>\n",
              "      \n",
              "  <style>\n",
              "    .colab-df-container {\n",
              "      display:flex;\n",
              "      flex-wrap:wrap;\n",
              "      gap: 12px;\n",
              "    }\n",
              "\n",
              "    .colab-df-convert {\n",
              "      background-color: #E8F0FE;\n",
              "      border: none;\n",
              "      border-radius: 50%;\n",
              "      cursor: pointer;\n",
              "      display: none;\n",
              "      fill: #1967D2;\n",
              "      height: 32px;\n",
              "      padding: 0 0 0 0;\n",
              "      width: 32px;\n",
              "    }\n",
              "\n",
              "    .colab-df-convert:hover {\n",
              "      background-color: #E2EBFA;\n",
              "      box-shadow: 0px 1px 2px rgba(60, 64, 67, 0.3), 0px 1px 3px 1px rgba(60, 64, 67, 0.15);\n",
              "      fill: #174EA6;\n",
              "    }\n",
              "\n",
              "    [theme=dark] .colab-df-convert {\n",
              "      background-color: #3B4455;\n",
              "      fill: #D2E3FC;\n",
              "    }\n",
              "\n",
              "    [theme=dark] .colab-df-convert:hover {\n",
              "      background-color: #434B5C;\n",
              "      box-shadow: 0px 1px 3px 1px rgba(0, 0, 0, 0.15);\n",
              "      filter: drop-shadow(0px 1px 2px rgba(0, 0, 0, 0.3));\n",
              "      fill: #FFFFFF;\n",
              "    }\n",
              "  </style>\n",
              "\n",
              "      <script>\n",
              "        const buttonEl =\n",
              "          document.querySelector('#df-230e9fc9-3467-4371-aa49-952dfe04355e button.colab-df-convert');\n",
              "        buttonEl.style.display =\n",
              "          google.colab.kernel.accessAllowed ? 'block' : 'none';\n",
              "\n",
              "        async function convertToInteractive(key) {\n",
              "          const element = document.querySelector('#df-230e9fc9-3467-4371-aa49-952dfe04355e');\n",
              "          const dataTable =\n",
              "            await google.colab.kernel.invokeFunction('convertToInteractive',\n",
              "                                                     [key], {});\n",
              "          if (!dataTable) return;\n",
              "\n",
              "          const docLinkHtml = 'Like what you see? Visit the ' +\n",
              "            '<a target=\"_blank\" href=https://colab.research.google.com/notebooks/data_table.ipynb>data table notebook</a>'\n",
              "            + ' to learn more about interactive tables.';\n",
              "          element.innerHTML = '';\n",
              "          dataTable['output_type'] = 'display_data';\n",
              "          await google.colab.output.renderOutput(dataTable, element);\n",
              "          const docLink = document.createElement('div');\n",
              "          docLink.innerHTML = docLinkHtml;\n",
              "          element.appendChild(docLink);\n",
              "        }\n",
              "      </script>\n",
              "    </div>\n",
              "  </div>\n",
              "  "
            ]
          },
          "metadata": {},
          "execution_count": 45
        }
      ]
    },
    {
      "cell_type": "markdown",
      "id": "963c17a0",
      "metadata": {
        "id": "963c17a0"
      },
      "source": [
        "## TODO 1 연령대별 허리둘레에 대한 기술통계를 구한 결과입니다. 다음 제공되는 딕셔너리를 통해 연령대코드(5세단위)를 \"연령대\"로 만들고 아래와 같은 기술통계값을 구해주세요!\n",
        "\n",
        "```\n",
        "age_code = {1: '0~4세',\n",
        " 2: '5~9세',\n",
        " 3: '10~14세',\n",
        " 4: '15~19세',\n",
        " 5: '20~24세',\n",
        " 6: '25~29세',\n",
        " 7: '30~34세',\n",
        " 8: '35~39세',\n",
        " 9: '40~44세',\n",
        " 10: '45~49세',\n",
        " 11: '50~54세',\n",
        " 12: '55~59세',\n",
        " 13: '60~64세',\n",
        " 14: '65~69세',\n",
        " 15: '70~74세',\n",
        " 16: '75~79세',\n",
        " 17: '80~84세',\n",
        " 18: '85세+'}\n",
        "```\n",
        "\n",
        "\n",
        "* 다음의 결과가 나오며, 소숫점 표현 방식이 다르더라도 출력값이 같으면 상관 없습니다. 예를 들어 예시결과는 32인데 직접 구한 값이 32.0 로 보이더라도 상관이 없습니다.\n",
        "\n",
        "\n",
        "| 연령대   |   count |    mean |      std |   min |   25% |   50% |   75% |   max |\n",
        "|:---------|--------:|--------:|---------:|------:|------:|------:|------:|------:|\n",
        "| 20~24세  |   23244 | 75.1522 | 12.2518  |  47.5 |  67.5 |  73.4 |  81   | 999   |\n",
        "| 25~29세  |   64898 | 77.7048 | 16.7357  |  48   |  69   |  76.5 |  84.2 | 999   |\n",
        "| 30~34세  |   77517 | 81.0893 | 22.9881  |  49   |  72   |  80.1 |  88   | 999   |\n",
        "| 35~39세  |   84621 | 82.094  | 14.5221  |   9.2 |  75   |  82   |  89   | 999   |\n",
        "| 40~44세  |  130912 | 80.4883 | 10.8031  |  42.1 |  73   |  80   |  87   | 999   |\n",
        "| 45~49세  |  118357 | 80.8224 |  9.52162 |  40   |  74   |  81   |  87   | 137   |\n",
        "| 50~54세  |  129833 | 81.0628 |  9.09544 |   6.5 |  75   |  81   |  87   | 142   |\n",
        "| 55~59세  |  112175 | 81.7999 |  8.7304  |  32   |  76   |  82   |  87.5 | 139   |\n",
        "| 60~64세  |  106491 | 82.7228 |  8.59618 |   0   |  77   |  83   |  88   | 137   |\n",
        "| 65~69세  |   53624 | 83.5885 |  8.44354 |  50   |  78   |  83.5 |  89   | 129   |\n",
        "| 70~74세  |   51586 | 84.0634 |  8.53964 |  51   |  78   |  84   |  90   | 129.8 |\n",
        "| 75~79세  |   25972 | 84.2001 |  8.77231 |  50   |  78   |  84   |  90   | 122   |\n",
        "| 80~84세  |   16205 | 83.7514 |  9.04109 |  38   |  78   |  84   |  90   | 120   |\n",
        "| 85세+    |    4125 | 81.7367 | 17.326   |  34   |  75   |  81.5 |  88   | 999   |\n"
      ]
    },
    {
      "cell_type": "code",
      "execution_count": null,
      "id": "592f3fa5",
      "metadata": {
        "id": "592f3fa5",
        "colab": {
          "base_uri": "https://localhost:8080/",
          "height": 520
        },
        "outputId": "628de9aa-4bd5-4aa9-f1d4-460a551883be"
      },
      "outputs": [
        {
          "output_type": "execute_result",
          "data": {
            "text/plain": [
              "           count       mean        std   min   25%   50%   75%    max\n",
              "연령대                                                                  \n",
              "20~24세   23244.0  75.152220  12.251781  47.5  67.5  73.4  81.0  999.0\n",
              "25~29세   64898.0  77.704783  16.735734  48.0  69.0  76.5  84.2  999.0\n",
              "30~34세   77517.0  81.089268  22.988111  49.0  72.0  80.1  88.0  999.0\n",
              "35~39세   84621.0  82.094012  14.522095   9.2  75.0  82.0  89.0  999.0\n",
              "40~44세  130912.0  80.488308  10.803098  42.1  73.0  80.0  87.0  999.0\n",
              "45~49세  118357.0  80.822449   9.521622  40.0  74.0  81.0  87.0  137.0\n",
              "50~54세  129833.0  81.062754   9.095438   6.5  75.0  81.0  87.0  142.0\n",
              "55~59세  112175.0  81.799905   8.730398  32.0  76.0  82.0  87.5  139.0\n",
              "60~64세  106491.0  82.722769   8.596176   0.0  77.0  83.0  88.0  137.0\n",
              "65~69세   53624.0  83.588500   8.443542  50.0  78.0  83.5  89.0  129.0\n",
              "70~74세   51586.0  84.063372   8.539639  51.0  78.0  84.0  90.0  129.8\n",
              "75~79세   25972.0  84.200127   8.772306  50.0  78.0  84.0  90.0  122.0\n",
              "80~84세   16205.0  83.751435   9.041091  38.0  78.0  84.0  90.0  120.0\n",
              "85세+      4125.0  81.736703  17.325969  34.0  75.0  81.5  88.0  999.0"
            ],
            "text/html": [
              "\n",
              "  <div id=\"df-b0d46b1f-cdc1-46c3-bf88-dd653274b7d2\">\n",
              "    <div class=\"colab-df-container\">\n",
              "      <div>\n",
              "<style scoped>\n",
              "    .dataframe tbody tr th:only-of-type {\n",
              "        vertical-align: middle;\n",
              "    }\n",
              "\n",
              "    .dataframe tbody tr th {\n",
              "        vertical-align: top;\n",
              "    }\n",
              "\n",
              "    .dataframe thead th {\n",
              "        text-align: right;\n",
              "    }\n",
              "</style>\n",
              "<table border=\"1\" class=\"dataframe\">\n",
              "  <thead>\n",
              "    <tr style=\"text-align: right;\">\n",
              "      <th></th>\n",
              "      <th>count</th>\n",
              "      <th>mean</th>\n",
              "      <th>std</th>\n",
              "      <th>min</th>\n",
              "      <th>25%</th>\n",
              "      <th>50%</th>\n",
              "      <th>75%</th>\n",
              "      <th>max</th>\n",
              "    </tr>\n",
              "    <tr>\n",
              "      <th>연령대</th>\n",
              "      <th></th>\n",
              "      <th></th>\n",
              "      <th></th>\n",
              "      <th></th>\n",
              "      <th></th>\n",
              "      <th></th>\n",
              "      <th></th>\n",
              "      <th></th>\n",
              "    </tr>\n",
              "  </thead>\n",
              "  <tbody>\n",
              "    <tr>\n",
              "      <th>20~24세</th>\n",
              "      <td>23244.0</td>\n",
              "      <td>75.152220</td>\n",
              "      <td>12.251781</td>\n",
              "      <td>47.5</td>\n",
              "      <td>67.5</td>\n",
              "      <td>73.4</td>\n",
              "      <td>81.0</td>\n",
              "      <td>999.0</td>\n",
              "    </tr>\n",
              "    <tr>\n",
              "      <th>25~29세</th>\n",
              "      <td>64898.0</td>\n",
              "      <td>77.704783</td>\n",
              "      <td>16.735734</td>\n",
              "      <td>48.0</td>\n",
              "      <td>69.0</td>\n",
              "      <td>76.5</td>\n",
              "      <td>84.2</td>\n",
              "      <td>999.0</td>\n",
              "    </tr>\n",
              "    <tr>\n",
              "      <th>30~34세</th>\n",
              "      <td>77517.0</td>\n",
              "      <td>81.089268</td>\n",
              "      <td>22.988111</td>\n",
              "      <td>49.0</td>\n",
              "      <td>72.0</td>\n",
              "      <td>80.1</td>\n",
              "      <td>88.0</td>\n",
              "      <td>999.0</td>\n",
              "    </tr>\n",
              "    <tr>\n",
              "      <th>35~39세</th>\n",
              "      <td>84621.0</td>\n",
              "      <td>82.094012</td>\n",
              "      <td>14.522095</td>\n",
              "      <td>9.2</td>\n",
              "      <td>75.0</td>\n",
              "      <td>82.0</td>\n",
              "      <td>89.0</td>\n",
              "      <td>999.0</td>\n",
              "    </tr>\n",
              "    <tr>\n",
              "      <th>40~44세</th>\n",
              "      <td>130912.0</td>\n",
              "      <td>80.488308</td>\n",
              "      <td>10.803098</td>\n",
              "      <td>42.1</td>\n",
              "      <td>73.0</td>\n",
              "      <td>80.0</td>\n",
              "      <td>87.0</td>\n",
              "      <td>999.0</td>\n",
              "    </tr>\n",
              "    <tr>\n",
              "      <th>45~49세</th>\n",
              "      <td>118357.0</td>\n",
              "      <td>80.822449</td>\n",
              "      <td>9.521622</td>\n",
              "      <td>40.0</td>\n",
              "      <td>74.0</td>\n",
              "      <td>81.0</td>\n",
              "      <td>87.0</td>\n",
              "      <td>137.0</td>\n",
              "    </tr>\n",
              "    <tr>\n",
              "      <th>50~54세</th>\n",
              "      <td>129833.0</td>\n",
              "      <td>81.062754</td>\n",
              "      <td>9.095438</td>\n",
              "      <td>6.5</td>\n",
              "      <td>75.0</td>\n",
              "      <td>81.0</td>\n",
              "      <td>87.0</td>\n",
              "      <td>142.0</td>\n",
              "    </tr>\n",
              "    <tr>\n",
              "      <th>55~59세</th>\n",
              "      <td>112175.0</td>\n",
              "      <td>81.799905</td>\n",
              "      <td>8.730398</td>\n",
              "      <td>32.0</td>\n",
              "      <td>76.0</td>\n",
              "      <td>82.0</td>\n",
              "      <td>87.5</td>\n",
              "      <td>139.0</td>\n",
              "    </tr>\n",
              "    <tr>\n",
              "      <th>60~64세</th>\n",
              "      <td>106491.0</td>\n",
              "      <td>82.722769</td>\n",
              "      <td>8.596176</td>\n",
              "      <td>0.0</td>\n",
              "      <td>77.0</td>\n",
              "      <td>83.0</td>\n",
              "      <td>88.0</td>\n",
              "      <td>137.0</td>\n",
              "    </tr>\n",
              "    <tr>\n",
              "      <th>65~69세</th>\n",
              "      <td>53624.0</td>\n",
              "      <td>83.588500</td>\n",
              "      <td>8.443542</td>\n",
              "      <td>50.0</td>\n",
              "      <td>78.0</td>\n",
              "      <td>83.5</td>\n",
              "      <td>89.0</td>\n",
              "      <td>129.0</td>\n",
              "    </tr>\n",
              "    <tr>\n",
              "      <th>70~74세</th>\n",
              "      <td>51586.0</td>\n",
              "      <td>84.063372</td>\n",
              "      <td>8.539639</td>\n",
              "      <td>51.0</td>\n",
              "      <td>78.0</td>\n",
              "      <td>84.0</td>\n",
              "      <td>90.0</td>\n",
              "      <td>129.8</td>\n",
              "    </tr>\n",
              "    <tr>\n",
              "      <th>75~79세</th>\n",
              "      <td>25972.0</td>\n",
              "      <td>84.200127</td>\n",
              "      <td>8.772306</td>\n",
              "      <td>50.0</td>\n",
              "      <td>78.0</td>\n",
              "      <td>84.0</td>\n",
              "      <td>90.0</td>\n",
              "      <td>122.0</td>\n",
              "    </tr>\n",
              "    <tr>\n",
              "      <th>80~84세</th>\n",
              "      <td>16205.0</td>\n",
              "      <td>83.751435</td>\n",
              "      <td>9.041091</td>\n",
              "      <td>38.0</td>\n",
              "      <td>78.0</td>\n",
              "      <td>84.0</td>\n",
              "      <td>90.0</td>\n",
              "      <td>120.0</td>\n",
              "    </tr>\n",
              "    <tr>\n",
              "      <th>85세+</th>\n",
              "      <td>4125.0</td>\n",
              "      <td>81.736703</td>\n",
              "      <td>17.325969</td>\n",
              "      <td>34.0</td>\n",
              "      <td>75.0</td>\n",
              "      <td>81.5</td>\n",
              "      <td>88.0</td>\n",
              "      <td>999.0</td>\n",
              "    </tr>\n",
              "  </tbody>\n",
              "</table>\n",
              "</div>\n",
              "      <button class=\"colab-df-convert\" onclick=\"convertToInteractive('df-b0d46b1f-cdc1-46c3-bf88-dd653274b7d2')\"\n",
              "              title=\"Convert this dataframe to an interactive table.\"\n",
              "              style=\"display:none;\">\n",
              "        \n",
              "  <svg xmlns=\"http://www.w3.org/2000/svg\" height=\"24px\"viewBox=\"0 0 24 24\"\n",
              "       width=\"24px\">\n",
              "    <path d=\"M0 0h24v24H0V0z\" fill=\"none\"/>\n",
              "    <path d=\"M18.56 5.44l.94 2.06.94-2.06 2.06-.94-2.06-.94-.94-2.06-.94 2.06-2.06.94zm-11 1L8.5 8.5l.94-2.06 2.06-.94-2.06-.94L8.5 2.5l-.94 2.06-2.06.94zm10 10l.94 2.06.94-2.06 2.06-.94-2.06-.94-.94-2.06-.94 2.06-2.06.94z\"/><path d=\"M17.41 7.96l-1.37-1.37c-.4-.4-.92-.59-1.43-.59-.52 0-1.04.2-1.43.59L10.3 9.45l-7.72 7.72c-.78.78-.78 2.05 0 2.83L4 21.41c.39.39.9.59 1.41.59.51 0 1.02-.2 1.41-.59l7.78-7.78 2.81-2.81c.8-.78.8-2.07 0-2.86zM5.41 20L4 18.59l7.72-7.72 1.47 1.35L5.41 20z\"/>\n",
              "  </svg>\n",
              "      </button>\n",
              "      \n",
              "  <style>\n",
              "    .colab-df-container {\n",
              "      display:flex;\n",
              "      flex-wrap:wrap;\n",
              "      gap: 12px;\n",
              "    }\n",
              "\n",
              "    .colab-df-convert {\n",
              "      background-color: #E8F0FE;\n",
              "      border: none;\n",
              "      border-radius: 50%;\n",
              "      cursor: pointer;\n",
              "      display: none;\n",
              "      fill: #1967D2;\n",
              "      height: 32px;\n",
              "      padding: 0 0 0 0;\n",
              "      width: 32px;\n",
              "    }\n",
              "\n",
              "    .colab-df-convert:hover {\n",
              "      background-color: #E2EBFA;\n",
              "      box-shadow: 0px 1px 2px rgba(60, 64, 67, 0.3), 0px 1px 3px 1px rgba(60, 64, 67, 0.15);\n",
              "      fill: #174EA6;\n",
              "    }\n",
              "\n",
              "    [theme=dark] .colab-df-convert {\n",
              "      background-color: #3B4455;\n",
              "      fill: #D2E3FC;\n",
              "    }\n",
              "\n",
              "    [theme=dark] .colab-df-convert:hover {\n",
              "      background-color: #434B5C;\n",
              "      box-shadow: 0px 1px 3px 1px rgba(0, 0, 0, 0.15);\n",
              "      filter: drop-shadow(0px 1px 2px rgba(0, 0, 0, 0.3));\n",
              "      fill: #FFFFFF;\n",
              "    }\n",
              "  </style>\n",
              "\n",
              "      <script>\n",
              "        const buttonEl =\n",
              "          document.querySelector('#df-b0d46b1f-cdc1-46c3-bf88-dd653274b7d2 button.colab-df-convert');\n",
              "        buttonEl.style.display =\n",
              "          google.colab.kernel.accessAllowed ? 'block' : 'none';\n",
              "\n",
              "        async function convertToInteractive(key) {\n",
              "          const element = document.querySelector('#df-b0d46b1f-cdc1-46c3-bf88-dd653274b7d2');\n",
              "          const dataTable =\n",
              "            await google.colab.kernel.invokeFunction('convertToInteractive',\n",
              "                                                     [key], {});\n",
              "          if (!dataTable) return;\n",
              "\n",
              "          const docLinkHtml = 'Like what you see? Visit the ' +\n",
              "            '<a target=\"_blank\" href=https://colab.research.google.com/notebooks/data_table.ipynb>data table notebook</a>'\n",
              "            + ' to learn more about interactive tables.';\n",
              "          element.innerHTML = '';\n",
              "          dataTable['output_type'] = 'display_data';\n",
              "          await google.colab.output.renderOutput(dataTable, element);\n",
              "          const docLink = document.createElement('div');\n",
              "          docLink.innerHTML = docLinkHtml;\n",
              "          element.appendChild(docLink);\n",
              "        }\n",
              "      </script>\n",
              "    </div>\n",
              "  </div>\n",
              "  "
            ]
          },
          "metadata": {},
          "execution_count": 46
        }
      ],
      "source": [
        "age_code = {1: '0~4세',\n",
        " 2: '5~9세',\n",
        " 3: '10~14세',\n",
        " 4: '15~19세',\n",
        " 5: '20~24세',\n",
        " 6: '25~29세',\n",
        " 7: '30~34세',\n",
        " 8: '35~39세',\n",
        " 9: '40~44세',\n",
        " 10: '45~49세',\n",
        " 11: '50~54세',\n",
        " 12: '55~59세',\n",
        " 13: '60~64세',\n",
        " 14: '65~69세',\n",
        " 15: '70~74세',\n",
        " 16: '75~79세',\n",
        " 17: '80~84세',\n",
        " 18: '85세+'}\n",
        "df_replace = df.replace({\"연령대코드(5세단위)\" : age_code})\n",
        "df_replace.rename(columns = {\"연령대코드(5세단위)\":\"연령대\"},inplace = True)\n",
        "#pivot_table로 나타내기\n",
        "df_replace.pivot_table(index=\"연령대\", values=\"허리둘레\", aggfunc=\"describe\")\n",
        "#groupby로 나타내기\n",
        "df_replace.groupby([\"연령대\"])[\"허리둘레\"].describe()\n"
      ]
    },
    {
      "cell_type": "markdown",
      "id": "f6a074b4",
      "metadata": {
        "id": "f6a074b4"
      },
      "source": [
        "## TODO 2 \"음주여부\", \"흡연상태\", \"연령대코드(5세단위)\", \"성별코드\"에 대한 상관계수를 구하고 시각화 해주세요.\n",
        "\n",
        "* 다음의 결과가 나오도록 합니다. 이 때 그래프의 색상, 스타일 표현방식에 차이가 있더라도 상관계수값이 차이가 없다면 문제 없습니다.\n",
        "\n",
        "<img src=\"https://i.imgur.com/WRc7SWw.png\" width=\"500\">"
      ]
    },
    {
      "cell_type": "code",
      "execution_count": null,
      "id": "130cc594",
      "metadata": {
        "id": "130cc594",
        "colab": {
          "base_uri": "https://localhost:8080/",
          "height": 517
        },
        "outputId": "c6775390-fb84-4e4e-dd99-2db17d4fe494"
      },
      "outputs": [
        {
          "output_type": "stream",
          "name": "stderr",
          "text": [
            "<ipython-input-47-3a9e589a57f6>:9: DeprecationWarning: `np.bool` is a deprecated alias for the builtin `bool`. To silence this warning, use `bool` by itself. Doing this will not modify any behavior and is safe. If you specifically wanted the numpy scalar type, use `np.bool_` here.\n",
            "Deprecated in NumPy 1.20; for more details and guidance: https://numpy.org/devdocs/release/1.20.0-notes.html#deprecations\n",
            "  mask = np.triu(np.ones_like(df_corr, dtype=np.bool))\n"
          ]
        },
        {
          "output_type": "execute_result",
          "data": {
            "text/plain": [
              "<matplotlib.axes._subplots.AxesSubplot at 0x7f8131af8070>"
            ]
          },
          "metadata": {},
          "execution_count": 47
        },
        {
          "output_type": "display_data",
          "data": {
            "text/plain": [
              "<Figure size 720x504 with 2 Axes>"
            ],
            "image/png": "[encoded data removed]"
          },
          "metadata": {
            "needs_background": "light"
          }
        }
      ],
      "source": [
        "import matplotlib.pyplot as plt\n",
        "\n",
        "#상관계수에 사용할 칼럼들을 담가\n",
        "columns = [\"음주여부\",\"흡연상태\",\"연령대코드(5세단위)\",\"성별코드\"]\n",
        "df_small = df[columns]\n",
        "df_corr = df_small.corr()\n",
        "df_corr\n",
        "\n",
        "mask = np.triu(np.ones_like(df_corr, dtype=np.bool))\n",
        "plt.figure(figsize=(10, 7))\n",
        "sns.heatmap(df_corr, annot=True, fmt=\".2f\", cmap=\"Blues\", mask=mask)"
      ]
    },
    {
      "cell_type": "markdown",
      "id": "3d8a6c18",
      "metadata": {
        "id": "3d8a6c18"
      },
      "source": [
        "## TODO 3 흡연하는 사람과 음주하는 사람들의 수는 얼마나 차이가 있을까요? \n",
        "\n",
        "* 건강보험에서 제공하고 있는 데이터는 용량을 줄이기 위해 대부분의 데이터를 숫자 형태로 제공하고 있습니다. replace 기능을 사용하면 딕셔너리의 값을 의미하는 문자 형태로 변경해 볼 수 있습니다. 다음 제공되는 딕셔너리 값을 사용하여 숫자가 의미하는 문자 형태로 변경한 뒤 전체 데이터에서 음주와 흡연에 대한 교차 테이블을 구해 각 해당 빈도수를 구하고 시각화 해주세요!\n",
        "\n",
        "```python\n",
        "# 흡연 1(피우지 않는다), 2(이전에 피웠으나 끊었다), 3(현재도 피우고 있다)\n",
        "# 음주 0(마시지 않은다), 1(마신다)\n",
        "smoke = {1 : \"흡연안함\", 2: \"끊음\", 3: \"흡연중\"}\n",
        "drink = {0: \"안마심\", 1: \"마심\"}\n",
        "```\n",
        "\n",
        "* groupby, pivot_table로 구할 수도 있지만, 수업에서는 다루지 않았던 pandas의 crosstab 기능을 사용해서도 비교적 쉽게 구할 수 있습니다.\n",
        "* crosstab 을 사용할 때는 다음의 문서를 참고하여 구해보세요. [pandas.crosstab — pandas documentation](https://pandas.pydata.org/docs/reference/api/pandas.crosstab.html)\n",
        "* 그리고 막대그래프를 통해 결과를 시각화해주세요! 시각화를 할 때 그래프의 스타일이나 막대의 색상 등이 달라도 상관 없으니 사용하고 싶은 스타일을 적용해서 시각화해도 좋습니다.\n",
        "\n",
        "`결과 예시`\n",
        "\n",
        "| 음주   |   끊음 |   흡연안함 |   흡연중 |\n",
        "|:-------|-------:|-----------:|---------:|\n",
        "| 마심   | 120779 |     213743 |   162166 |\n",
        "| 안마심 |  55334 |     394503 |    52845 |\n",
        "\n",
        "\n",
        "<img src=\"https://i.imgur.com/ieW7ocg.png\" width=500>"
      ]
    },
    {
      "cell_type": "code",
      "execution_count": null,
      "id": "24ca6ebe",
      "metadata": {
        "id": "24ca6ebe",
        "colab": {
          "base_uri": "https://localhost:8080/",
          "height": 296
        },
        "outputId": "a5e9c656-d81f-4b66-c03c-6b6e7463a593"
      },
      "outputs": [
        {
          "output_type": "execute_result",
          "data": {
            "text/plain": [
              "<matplotlib.axes._subplots.AxesSubplot at 0x7f81318d0760>"
            ]
          },
          "metadata": {},
          "execution_count": 48
        },
        {
          "output_type": "display_data",
          "data": {
            "text/plain": [
              "<Figure size 432x288 with 1 Axes>"
            ],
            "image/png": "[encoded data removed]"
          },
          "metadata": {
            "needs_background": "light"
          }
        }
      ],
      "source": [
        "import seaborn as sns\n",
        "# 흡연 1(피우지 않는다), 2(이전에 피웠으나 끊었다), 3(현재도 피우고 있다)\n",
        "# 음주 0(마시지 않은다), 1(마신다)\n",
        "smoke = {1 : \"흡연안함\", 2: \"끊음\", 3: \"흡연중\"}\n",
        "drink = {0: \"안마심\", 1: \"마심\"}\n",
        "# df[\"흡연\"]\n",
        "# df[\"음주\"]\n",
        "df_replace_2 = df.replace({\"흡연상태\" : smoke})\n",
        "df_replace_3 = df_replace_2.replace({\"음주여부\" : drink})\n",
        "df_replace_3.groupby([\"음주여부\",\"흡연상태\"])[\"가입자일련번호\"].count()\n",
        "\n",
        "pd.pivot_table(df_replace_3, index=[\"음주여부\", \"흡연상태\"], values=\"가입자일련번호\", aggfunc=\"count\")\n",
        "pd.crosstab(df_replace_3[\"음주여부\"],df_replace_3[\"흡연상태\"],colnames = [\"흡연\"],rownames = [\"음주\"],values = \"가입자일련번호\",aggfunc=\"count\")\n",
        "\n",
        "sns.countplot(data=df_replace_3, x=\"흡연상태\", hue=\"음주여부\")"
      ]
    },
    {
      "cell_type": "markdown",
      "id": "f4ffaf3e",
      "metadata": {
        "id": "f4ffaf3e"
      },
      "source": [
        "## TODO 3-4 체중이 120Kg 이상인 데이터를 찾아 \"총콜레스테롤\", \"감마지티피\" 값을 음주여부에 따라 산점도로 시각화해주세요!\n",
        "* 체중이 120Kg 이 넘는다면 비만으로 건강관리가 필요합니다. 120Kg 이상인 데이터를 찾아 \"총콜레스테롤\", \"감마지티피\" 값을 음주여부에 따라 산점도로 시각화해주세요! (이때 120Kg 도 포함되게 구합니다.) 그래프의 설정과 seaborn 버전에 따라 여백이나 회귀선의 시작과 끝점에 차이가 있을 수 있습니다. \n",
        "\n",
        "<img src=\"https://i.imgur.com/0gMa9g4.png\">"
      ]
    },
    {
      "cell_type": "code",
      "execution_count": null,
      "id": "9a45e933",
      "metadata": {
        "id": "9a45e933",
        "colab": {
          "base_uri": "https://localhost:8080/",
          "height": 386
        },
        "outputId": "e94eb09f-f240-400e-89f0-35fab26293f4"
      },
      "outputs": [
        {
          "output_type": "execute_result",
          "data": {
            "text/plain": [
              "<seaborn.axisgrid.FacetGrid at 0x7f813185ea00>"
            ]
          },
          "metadata": {},
          "execution_count": 49
        },
        {
          "output_type": "display_data",
          "data": {
            "text/plain": [
              "<Figure size 1144.12x360 with 3 Axes>"
            ],
            "image/png": "[encoded data removed]"
          },
          "metadata": {
            "needs_background": "light"
          }
        }
      ],
      "source": [
        "df_ASLT = df_replace_3[(df_replace_3[\"체중(5Kg 단위)\"] > 120) | (df_replace_3[\"체중(5Kg 단위)\"] == 120)]\n",
        "\n",
        "sns.lmplot(data=df_ASLT, x=\"총콜레스테롤\", y=\"감마지티피\", hue=\"음주여부\", col = \"흡연상태\")"
      ]
    },
    {
      "cell_type": "markdown",
      "id": "102f74ae",
      "metadata": {
        "id": "102f74ae"
      },
      "source": [
        "## TODO 5 연령대별로 시력은 얼마나 차이가 날까요? 연령대, 성별 좌우 평균 시력을 시각화 해주세요!\n",
        "\n",
        "* 시력은 0.1~2.5 사이의 값으로 표기하며 0.1 이하의 시력은 0.1, 실명은 9.9로 표기합니다.\n",
        "* 실명인 데이터를 평균에 포함하게 되면 시력에 대한 평균을 제대로 구하기 어렵습니다. 실명 데이터를 제외하고 연령대, 성별에 따른 평균 좌우 시력을 구해주세요!\n",
        "\n",
        "* 서브플롯으로 시각화하려 표현해 주고 matplotlib 에 대한 사용법은 다음의 영상도 함께 참고해 주세요! \n",
        "* 시각화 예시는 참고사항으로 스타일이나 폰트 구성이 달라도 연령대, 성별 좌우평균시력을 시각화 하면 됩니다.\n",
        "* https://www.youtube.com/watch?v=ZTRKojTLE8M\n",
        "\n",
        "\n",
        "<img src=\"https://i.imgur.com/wA6GEEb.png\">"
      ]
    },
    {
      "cell_type": "code",
      "execution_count": 68,
      "id": "1ff7cae3",
      "metadata": {
        "id": "1ff7cae3",
        "colab": {
          "base_uri": "https://localhost:8080/",
          "height": 458
        },
        "outputId": "e4bfcab4-519d-43a1-d8e8-47cfa97d20d5"
      },
      "outputs": [
        {
          "output_type": "execute_result",
          "data": {
            "text/plain": [
              "<matplotlib.axes._subplots.AxesSubplot at 0x7f813158f6d0>"
            ]
          },
          "metadata": {},
          "execution_count": 68
        },
        {
          "output_type": "display_data",
          "data": {
            "text/plain": [
              "<Figure size 648x504 with 1 Axes>"
            ],
            "image/png": "[encoded data removed]"
          },
          "metadata": {
            "needs_background": "light"
          }
        }
      ],
      "source": [
        "drop_row = df_replace[(df_replace[\"시력(좌)\"] == 9.9) | (df_replace[\"시력(우)\"] == 9.9)].index\n",
        "drop_row = drop_row.tolist()\n",
        "drop_row\n",
        "df_replace = df_replace.drop(drop_row, axis=0)\n",
        "plt.figure(figsize = (9,7))\n",
        "sns.barplot(data = df_replace, x = \"시력(좌)\", y = \"연령대\", hue = \"성별코드\",ci = None)\n"
      ]
    },
    {
      "cell_type": "code",
      "execution_count": null,
      "id": "97072eb8",
      "metadata": {
        "id": "97072eb8",
        "colab": {
          "base_uri": "https://localhost:8080/",
          "height": 458
        },
        "outputId": "eb86c524-c549-4890-9abe-e7679013c4f1"
      },
      "outputs": [
        {
          "output_type": "execute_result",
          "data": {
            "text/plain": [
              "<matplotlib.axes._subplots.AxesSubplot at 0x7f8130830f40>"
            ]
          },
          "metadata": {},
          "execution_count": 63
        },
        {
          "output_type": "display_data",
          "data": {
            "text/plain": [
              "<Figure size 648x504 with 1 Axes>"
            ],
            "image/png": "[encoded data removed]"
          },
          "metadata": {
            "needs_background": "light"
          }
        }
      ],
      "source": [
        "plt.figure(figsize = (9,7))\n",
        "sns.barplot(data = df_replace, x = \"시력(우)\", y = \"연령대\", hue = \"성별코드\",ci = None)"
      ]
    },
    {
      "cell_type": "code",
      "source": [],
      "metadata": {
        "id": "ZDbXAgL3TWQU"
      },
      "id": "ZDbXAgL3TWQU",
      "execution_count": null,
      "outputs": []
    }
  ],
  "metadata": {
    "kernelspec": {
      "display_name": "Python 3 (ipykernel)",
      "language": "python",
      "name": "python3"
    },
    "language_info": {
      "codemirror_mode": {
        "name": "ipython",
        "version": 3
      },
      "file_extension": ".py",
      "mimetype": "text/x-python",
      "name": "python",
      "nbconvert_exporter": "python",
      "pygments_lexer": "ipython3",
      "version": "3.7.13"
    },
    "toc": {
      "base_numbering": 1,
      "nav_menu": {},
      "number_sections": true,
      "sideBar": true,
      "skip_h1_title": false,
      "title_cell": "Table of Contents",
      "title_sidebar": "Contents",
      "toc_cell": false,
      "toc_position": {},
      "toc_section_display": true,
      "toc_window_display": false
    },
    "varInspector": {
      "cols": {
        "lenName": 16,
        "lenType": 16,
        "lenVar": 40
      },
      "kernels_config": {
        "python": {
          "delete_cmd_postfix": "",
          "delete_cmd_prefix": "del ",
          "library": "var_list.py",
          "varRefreshCmd": "print(var_dic_list())"
        },
        "r": {
          "delete_cmd_postfix": ") ",
          "delete_cmd_prefix": "rm(",
          "library": "var_list.r",
          "varRefreshCmd": "cat(var_dic_list()) "
        }
      },
      "types_to_exclude": [
        "module",
        "function",
        "builtin_function_or_method",
        "instance",
        "_Feature"
      ],
      "window_display": false
    },
    "colab": {
      "provenance": [],
      "include_colab_link": true
    }
  },
  "nbformat": 4,
  "nbformat_minor": 5
}